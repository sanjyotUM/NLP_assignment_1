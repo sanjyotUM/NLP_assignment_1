{
 "cells": [
  {
   "cell_type": "markdown",
   "metadata": {},
   "source": [
    "# NLP Assignment 1 Q1"
   ]
  },
  {
   "cell_type": "code",
   "execution_count": 77,
   "metadata": {},
   "outputs": [],
   "source": [
    "import pandas as pd\n",
    "import numpy as np\n",
    "from sklearn.preprocessing import LabelEncoder\n",
    "from sklearn.tree import DecisionTreeClassifier\n",
    "from sklearn.metrics import accuracy_score"
   ]
  },
  {
   "cell_type": "markdown",
   "metadata": {},
   "source": [
    "## Preprocess functions"
   ]
  },
  {
   "cell_type": "code",
   "execution_count": 78,
   "metadata": {},
   "outputs": [],
   "source": [
    "def preprocess(raw):\n",
    "    \n",
    "    # Split data into separate columns\n",
    "    raw['pos'] = raw['data'].str.split().str[0]\n",
    "    raw['word'] = raw['data'].str.split().str[1]\n",
    "    raw['type'] = raw['data'].str.split().str[2]\n",
    "    raw.index = raw['pos'].astype(int)\n",
    "    \n",
    "    # Drop, rename columns\n",
    "    raw = raw.drop(['data', 'pos'], axis=1)\n",
    "    raw = raw.rename(columns={'word': 'L', 'type': 'label'})\n",
    "\n",
    "    # Get next word in the same row to ease computation later\n",
    "    raw['R'] = raw['L'].shift(-1)\n",
    "    raw['R'] = raw['R'].fillna('EndOfDocument')\n",
    "\n",
    "    # Choose only those periods which are of the form 'L. R'\n",
    "    raw = raw[raw['label'].isin(['EOS', 'NEOS'])]\n",
    "    \n",
    "    # Remove the attached period to the words\n",
    "    raw['L'] = raw['L'].str.strip('.')\n",
    "    raw['R'] = raw['R'].str.strip('.')\n",
    "    return raw"
   ]
  },
  {
   "cell_type": "code",
   "execution_count": 79,
   "metadata": {},
   "outputs": [],
   "source": [
    "def string_encoder(df):\n",
    "    \n",
    "    # Encode L and R strings with a unique number for each word\n",
    "    corpus = list(set(df['L'].tolist() + df['R'].tolist()))\n",
    "    wordmap_inverse = pd.Series(data=corpus).to_dict()\n",
    "    wordmap = {wordmap_inverse[k]: k for k in wordmap_inverse}\n",
    "    return wordmap"
   ]
  },
  {
   "cell_type": "code",
   "execution_count": 80,
   "metadata": {},
   "outputs": [],
   "source": [
    "# Generate 5 core features mentioned in assignment\n",
    "\n",
    "def generate_core_features(df, wordmap):\n",
    "    df['L_encoded'] = df['L'].map(wordmap).fillna(-1).astype(int)\n",
    "    df['R_encoded'] = df['R'].map(wordmap).fillna(-1).astype(int)\n",
    "    \n",
    "    df['L<3'] = df['L'].str.len() < 3\n",
    "    df['L_cap'] = df['L'].str.istitle()\n",
    "    df['R_cap'] = df['R'].str.istitle()\n",
    "    return df"
   ]
  },
  {
   "cell_type": "markdown",
   "metadata": {},
   "source": [
    "Additional features: \n",
    "\n",
    "1. L contains period\n",
    "2. R is comma\n",
    "3. Length of R"
   ]
  },
  {
   "cell_type": "code",
   "execution_count": 81,
   "metadata": {},
   "outputs": [],
   "source": [
    "def generate_additional_features(df):\n",
    "    df['L_contains_period'] = df['L'].str.contains('\\.')\n",
    "    df['R_comma'] = df['R'] == ','\n",
    "    df['R_length'] = df['R'].str.len()\n",
    "    return df"
   ]
  },
  {
   "cell_type": "code",
   "execution_count": 82,
   "metadata": {},
   "outputs": [],
   "source": [
    "def create_train_dataset(raw):\n",
    "    df = preprocess(raw)\n",
    "    wordmap = string_encoder(df)\n",
    "    df = generate_core_features(df, wordmap)\n",
    "    df = generate_additional_features(df)\n",
    "    \n",
    "    label_vals = {'EOS': 1, 'NEOS': 0}\n",
    "    df['label_bin'] = df['label'].map(label_vals)\n",
    "    return df, wordmap\n",
    "\n",
    "def create_test_dataset(raw, wordmap):\n",
    "    df = preprocess(raw)\n",
    "    df = generate_core_features(df, wordmap)\n",
    "    df = generate_additional_features(df)\n",
    "    \n",
    "    label_vals = {'EOS': 1, 'NEOS': 0}\n",
    "    df['label_bin'] = df['label'].map(label_vals)\n",
    "    return df"
   ]
  },
  {
   "cell_type": "markdown",
   "metadata": {},
   "source": [
    "## Main script"
   ]
  },
  {
   "cell_type": "code",
   "execution_count": 70,
   "metadata": {},
   "outputs": [],
   "source": [
    "# Read files as pandas dataframes\n",
    "\n",
    "raw_train = pd.read_csv('SBD.train', sep='\\t', names=['data'])\n",
    "raw_test = pd.read_csv('SBD.test', sep='\\t', names=['data'])"
   ]
  },
  {
   "cell_type": "code",
   "execution_count": 83,
   "metadata": {},
   "outputs": [],
   "source": [
    "train, wordmap = create_train_dataset(raw_train)\n",
    "test = create_test_dataset(raw_test, wordmap)"
   ]
  },
  {
   "cell_type": "code",
   "execution_count": 111,
   "metadata": {},
   "outputs": [
    {
     "data": {
      "text/plain": [
       "DecisionTreeClassifier(class_weight=None, criterion='gini', max_depth=6,\n",
       "                       max_features=None, max_leaf_nodes=None,\n",
       "                       min_impurity_decrease=0.0, min_impurity_split=None,\n",
       "                       min_samples_leaf=1, min_samples_split=2,\n",
       "                       min_weight_fraction_leaf=0.0, presort=False,\n",
       "                       random_state=None, splitter='best')"
      ]
     },
     "execution_count": 111,
     "metadata": {},
     "output_type": "execute_result"
    }
   ],
   "source": [
    "# Train a Decision Tree classifier on training data\n",
    "\n",
    "# features = ['L_encoded', 'R_encoded', 'L<3', 'L_cap', 'R_cap', 'L_contains_period', 'R_comma', 'R_length']\n",
    "# features = ['L_encoded', 'R_encoded', 'L<3', 'L_cap', 'R_cap']\n",
    "features = ['L_contains_period', 'R_comma', 'R_length']\n",
    "target = ['label_bin']\n",
    "\n",
    "\n",
    "X_train = train[features].values\n",
    "y_train = train[target].values\n",
    "\n",
    "X_test = test[features].values\n",
    "y_test = test[target].values\n",
    "\n",
    "clf = DecisionTreeClassifier(max_depth=6)\n",
    "clf.fit(X_train, y_train)"
   ]
  },
  {
   "cell_type": "code",
   "execution_count": 112,
   "metadata": {},
   "outputs": [
    {
     "name": "stdout",
     "output_type": "stream",
     "text": [
      "Training accuracy: 80.73373193243165\n",
      "Test accuracy: 82.67622461170848\n"
     ]
    }
   ],
   "source": [
    "# Evaluation\n",
    "\n",
    "pred_train = clf.predict(X_train)\n",
    "pred_test = clf.predict(X_test)\n",
    "\n",
    "print('Training accuracy: {}'.format(accuracy_score(y_train, pred_train) * 100))\n",
    "print('Test accuracy: {}'.format(accuracy_score(y_test, pred_test) * 100))"
   ]
  },
  {
   "cell_type": "code",
   "execution_count": 96,
   "metadata": {},
   "outputs": [],
   "source": [
    "# Write test file in prescribed format\n",
    "test['prediction'] = pred_test\n",
    "test = test.reset_index()\n",
    "test[['pos', 'L', 'prediction']].to_csv('SBD.test.out', index=False)"
   ]
  },
  {
   "cell_type": "code",
   "execution_count": 94,
   "metadata": {},
   "outputs": [
    {
     "data": {
      "text/plain": [
       "L_cap                0.671281\n",
       "R_cap                0.149543\n",
       "L<3                  0.069358\n",
       "L_encoded            0.039321\n",
       "R_length             0.028167\n",
       "R_encoded            0.021183\n",
       "L_contains_period    0.019650\n",
       "R_comma              0.001497\n",
       "dtype: float64"
      ]
     },
     "execution_count": 94,
     "metadata": {},
     "output_type": "execute_result"
    }
   ],
   "source": [
    "# ft_importance = pd.Series(data=clf.feature_importances_, index=features)\n",
    "# ft_importance.sort_values(ascending=False)"
   ]
  }
 ],
 "metadata": {
  "kernelspec": {
   "display_name": "Python 3",
   "language": "python",
   "name": "python3"
  },
  "language_info": {
   "codemirror_mode": {
    "name": "ipython",
    "version": 3
   },
   "file_extension": ".py",
   "mimetype": "text/x-python",
   "name": "python",
   "nbconvert_exporter": "python",
   "pygments_lexer": "ipython3",
   "version": "3.7.4"
  },
  "toc": {
   "base_numbering": 1,
   "nav_menu": {},
   "number_sections": true,
   "sideBar": true,
   "skip_h1_title": false,
   "title_cell": "Table of Contents",
   "title_sidebar": "Contents",
   "toc_cell": false,
   "toc_position": {},
   "toc_section_display": true,
   "toc_window_display": false
  }
 },
 "nbformat": 4,
 "nbformat_minor": 2
}
