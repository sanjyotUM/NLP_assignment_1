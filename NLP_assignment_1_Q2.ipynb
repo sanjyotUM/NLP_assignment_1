{
 "cells": [
  {
   "cell_type": "code",
   "execution_count": 1,
   "metadata": {},
   "outputs": [],
   "source": [
    "import pandas as pd"
   ]
  },
  {
   "cell_type": "code",
   "execution_count": 61,
   "metadata": {},
   "outputs": [],
   "source": [
    "# Parse the raw text into a dataframe\n",
    "\n",
    "filename = 'Collocations'\n",
    "\n",
    "with open(filename, 'r') as f:\n",
    "    raw_text = f.read()\n",
    "    \n",
    "text_list = raw_text.strip().split(' ')\n",
    "\n",
    "ngram = (\n",
    "    pd.DataFrame(data=text_list, columns=['unigram'])\n",
    "    .assign(unigram = lambda x: x['unigram'].str.strip())\n",
    "    .loc[lambda x: ~x['unigram'].isin([',', '.', \"'\", '\"', '`', '-', ':'])]\n",
    "    .assign(second_word = lambda x: x['unigram'].shift(-1).fillna('EndOfDocument'))\n",
    "    .assign(bigram = lambda x: x['unigram'].str.cat(x['second_word'], sep='::'))\n",
    "    .drop(['second_word'], axis=1)\n",
    ")"
   ]
  },
  {
   "cell_type": "code",
   "execution_count": 63,
   "metadata": {},
   "outputs": [
    {
     "data": {
      "text/html": [
       "<div>\n",
       "<style scoped>\n",
       "    .dataframe tbody tr th:only-of-type {\n",
       "        vertical-align: middle;\n",
       "    }\n",
       "\n",
       "    .dataframe tbody tr th {\n",
       "        vertical-align: top;\n",
       "    }\n",
       "\n",
       "    .dataframe thead th {\n",
       "        text-align: right;\n",
       "    }\n",
       "</style>\n",
       "<table border=\"1\" class=\"dataframe\">\n",
       "  <thead>\n",
       "    <tr style=\"text-align: right;\">\n",
       "      <th></th>\n",
       "      <th>unigram</th>\n",
       "      <th>bigram</th>\n",
       "    </tr>\n",
       "  </thead>\n",
       "  <tbody>\n",
       "    <tr>\n",
       "      <td>484375</td>\n",
       "      <td>N.V.</td>\n",
       "      <td>N.V.::the</td>\n",
       "    </tr>\n",
       "    <tr>\n",
       "      <td>484377</td>\n",
       "      <td>the</td>\n",
       "      <td>the::Dutch</td>\n",
       "    </tr>\n",
       "    <tr>\n",
       "      <td>484378</td>\n",
       "      <td>Dutch</td>\n",
       "      <td>Dutch::publishing</td>\n",
       "    </tr>\n",
       "    <tr>\n",
       "      <td>484379</td>\n",
       "      <td>publishing</td>\n",
       "      <td>publishing::group</td>\n",
       "    </tr>\n",
       "    <tr>\n",
       "      <td>484380</td>\n",
       "      <td>group</td>\n",
       "      <td>group::EndOfDocument</td>\n",
       "    </tr>\n",
       "  </tbody>\n",
       "</table>\n",
       "</div>"
      ],
      "text/plain": [
       "           unigram                bigram\n",
       "484375        N.V.             N.V.::the\n",
       "484377         the            the::Dutch\n",
       "484378       Dutch     Dutch::publishing\n",
       "484379  publishing     publishing::group\n",
       "484380       group  group::EndOfDocument"
      ]
     },
     "execution_count": 63,
     "metadata": {},
     "output_type": "execute_result"
    }
   ],
   "source": [
    "ngram.tail()"
   ]
  },
  {
   "cell_type": "code",
   "execution_count": 99,
   "metadata": {},
   "outputs": [],
   "source": [
    "unigram_count = (\n",
    "    ngram\n",
    "    .groupby(by=['unigram'])\n",
    "    .agg({'unigram': 'count'})\n",
    "    .rename(columns={'unigram': 'count'})\n",
    "    .sort_values(by='count', ascending=False)\n",
    "    ['count']\n",
    ")\n",
    "\n",
    "bigram_count = (\n",
    "    ngram.groupby(by=['bigram'])\n",
    "    .agg({'bigram': 'count'})\n",
    "    .rename(columns={'bigram': 'count'})\n",
    "    .sort_values(by='count', ascending=False)\n",
    "    ['count']\n",
    ")"
   ]
  }
 ],
 "metadata": {
  "kernelspec": {
   "display_name": "Python 3",
   "language": "python",
   "name": "python3"
  },
  "language_info": {
   "codemirror_mode": {
    "name": "ipython",
    "version": 3
   },
   "file_extension": ".py",
   "mimetype": "text/x-python",
   "name": "python",
   "nbconvert_exporter": "python",
   "pygments_lexer": "ipython3",
   "version": "3.7.4"
  },
  "toc": {
   "base_numbering": 1,
   "nav_menu": {},
   "number_sections": true,
   "sideBar": true,
   "skip_h1_title": false,
   "title_cell": "Table of Contents",
   "title_sidebar": "Contents",
   "toc_cell": false,
   "toc_position": {},
   "toc_section_display": true,
   "toc_window_display": false
  }
 },
 "nbformat": 4,
 "nbformat_minor": 2
}
